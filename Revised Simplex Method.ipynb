{
 "cells": [
  {
   "cell_type": "markdown",
   "id": "ff556997",
   "metadata": {},
   "source": [
    "#### This program is to solve LP with the standard form as below:\n",
    "$min$ $z=c^Tx$\\\n",
    "$subject$ $to$\\\n",
    "$Ax=b$\\\n",
    "$x>=0$"
   ]
  },
  {
   "cell_type": "markdown",
   "id": "086a07ae",
   "metadata": {},
   "source": [
    "#### Input parameters"
   ]
  },
  {
   "cell_type": "code",
   "execution_count": 1,
   "id": "0d1a6f53",
   "metadata": {},
   "outputs": [
    {
     "name": "stdout",
     "output_type": "stream",
     "text": [
      "Please enter the coefficients in matrix c:15000 14000 15000 14000 15000 14000 1000 1000 1000 1000 1000 1000 -20000 -17000 -20000 -17000 -20000 -17000 0 0 0 0 0 0 0 0 0 0\n",
      "Please enter the coefficients in matrix A (in line order):1 1 0 0 0 0 0 0 0 0 0 0 0 0 0 0 0 0 1 0 0 0 0 0 0 0 0 0 0 0 1 1 0 0 0 0 0 0 0 0 0 0 0 0 0 0 0 1 0 0 0 0 0 0 0 0 0 0 0 0 1 1 0 0 0 0 0 0 0 0 0 0 0 0 0 0 1 0 0 0 0 0 0 0 -1 0 0 0 0 0 1 0 0 0 0 0 1 0 0 0 0 0 0 0 0 0 0 0 0 0 0 0 0 -1 0 0 0 0 0 1 0 0 0 0 0 1 0 0 0 0 0 0 0 0 0 0 0 0 0 0 0 0 -1 0 0 0 -1 0 1 0 0 0 0 0 1 0 0 0 0 0 0 0 0 0 0 0 0 0 0 0 0 -1 0 0 0 -1 0 1 0 0 0 0 0 1 0 0 0 0 0 0 0 0 0 0 0 0 0 0 0 0 -1 0 0 0 -1 0 1 0 0 0 0 0 1 0 0 0 0 0 0 0 0 0 0 0 0 0 0 0 0 -1 0 0 0 -1 0 1 0 0 0 0 0 1 0 0 0 0 0 0 0 0 0 0 0 0 0 0 0 0 0 0 0 0 0 0 1 0 0 0 0 0 0 0 0 1 0 0 0 0 0 0 0 0 0 0 0 0 0 0 0 0 0 0 0 1 0 0 0 0 0 0 0 0 1 0 0 0 0 0 0 0 0 0 0 0 0 0 0 0 0 0 0 0 1 0 0 0 0 0 0 0 0 1 0 0 0 0 0 0 0 0 0 0 0 0 0 0 0 0 0 0 0 1 0 0 0 0 0 0 0 0 1 0 0 0 0 0 0 0 0 0 0 0 0 0 0 0 0 0 0 0 1 0 0 0 0 0 0 0 0 1 0 0 0 0 0 0 0 0 0 0 0 0 0 0 0 0 0 0 0 1 0 0 0 0 0 0 0 0 1 0 0 0 0 0 0 0 0 0 0 0 0 0 5 -4 5 -4 5 -4 0 0 0 0 0 0 0 0 0 1\n",
      "Please enter the coefficients in matrix b:325 325 325 0 0 0 0 0 0 100 200 200 100 300 150 0\n"
     ]
    }
   ],
   "source": [
    "c = input(\"Please enter the coefficients in matrix c:\")\n",
    "A = input(\"Please enter the coefficients in matrix A (in line order):\")\n",
    "b = input(\"Please enter the coefficients in matrix b:\")"
   ]
  },
  {
   "cell_type": "code",
   "execution_count": 2,
   "id": "5f045698",
   "metadata": {},
   "outputs": [
    {
     "name": "stdout",
     "output_type": "stream",
     "text": [
      "[[ 15000.]\n",
      " [ 14000.]\n",
      " [ 15000.]\n",
      " [ 14000.]\n",
      " [ 15000.]\n",
      " [ 14000.]\n",
      " [  1000.]\n",
      " [  1000.]\n",
      " [  1000.]\n",
      " [  1000.]\n",
      " [  1000.]\n",
      " [  1000.]\n",
      " [-20000.]\n",
      " [-17000.]\n",
      " [-20000.]\n",
      " [-17000.]\n",
      " [-20000.]\n",
      " [-17000.]\n",
      " [     0.]\n",
      " [     0.]\n",
      " [     0.]\n",
      " [     0.]\n",
      " [     0.]\n",
      " [     0.]\n",
      " [     0.]\n",
      " [     0.]\n",
      " [     0.]\n",
      " [     0.]]\n",
      "[[ 1.  1.  0.  0.  0.  0.  0.  0.  0.  0.  0.  0.  0.  0.  0.  0.  0.  0.\n",
      "   1.  0.  0.  0.  0.  0.  0.  0.  0.  0.]\n",
      " [ 0.  0.  1.  1.  0.  0.  0.  0.  0.  0.  0.  0.  0.  0.  0.  0.  0.  0.\n",
      "   0.  1.  0.  0.  0.  0.  0.  0.  0.  0.]\n",
      " [ 0.  0.  0.  0.  1.  1.  0.  0.  0.  0.  0.  0.  0.  0.  0.  0.  0.  0.\n",
      "   0.  0.  1.  0.  0.  0.  0.  0.  0.  0.]\n",
      " [-1.  0.  0.  0.  0.  0.  1.  0.  0.  0.  0.  0.  1.  0.  0.  0.  0.  0.\n",
      "   0.  0.  0.  0.  0.  0.  0.  0.  0.  0.]\n",
      " [ 0. -1.  0.  0.  0.  0.  0.  1.  0.  0.  0.  0.  0.  1.  0.  0.  0.  0.\n",
      "   0.  0.  0.  0.  0.  0.  0.  0.  0.  0.]\n",
      " [ 0.  0. -1.  0.  0.  0. -1.  0.  1.  0.  0.  0.  0.  0.  1.  0.  0.  0.\n",
      "   0.  0.  0.  0.  0.  0.  0.  0.  0.  0.]\n",
      " [ 0.  0.  0. -1.  0.  0.  0. -1.  0.  1.  0.  0.  0.  0.  0.  1.  0.  0.\n",
      "   0.  0.  0.  0.  0.  0.  0.  0.  0.  0.]\n",
      " [ 0.  0.  0.  0. -1.  0.  0.  0. -1.  0.  1.  0.  0.  0.  0.  0.  1.  0.\n",
      "   0.  0.  0.  0.  0.  0.  0.  0.  0.  0.]\n",
      " [ 0.  0.  0.  0.  0. -1.  0.  0.  0. -1.  0.  1.  0.  0.  0.  0.  0.  1.\n",
      "   0.  0.  0.  0.  0.  0.  0.  0.  0.  0.]\n",
      " [ 0.  0.  0.  0.  0.  0.  0.  0.  0.  0.  0.  0.  1.  0.  0.  0.  0.  0.\n",
      "   0.  0.  0.  1.  0.  0.  0.  0.  0.  0.]\n",
      " [ 0.  0.  0.  0.  0.  0.  0.  0.  0.  0.  0.  0.  0.  1.  0.  0.  0.  0.\n",
      "   0.  0.  0.  0.  1.  0.  0.  0.  0.  0.]\n",
      " [ 0.  0.  0.  0.  0.  0.  0.  0.  0.  0.  0.  0.  0.  0.  1.  0.  0.  0.\n",
      "   0.  0.  0.  0.  0.  1.  0.  0.  0.  0.]\n",
      " [ 0.  0.  0.  0.  0.  0.  0.  0.  0.  0.  0.  0.  0.  0.  0.  1.  0.  0.\n",
      "   0.  0.  0.  0.  0.  0.  1.  0.  0.  0.]\n",
      " [ 0.  0.  0.  0.  0.  0.  0.  0.  0.  0.  0.  0.  0.  0.  0.  0.  1.  0.\n",
      "   0.  0.  0.  0.  0.  0.  0.  1.  0.  0.]\n",
      " [ 0.  0.  0.  0.  0.  0.  0.  0.  0.  0.  0.  0.  0.  0.  0.  0.  0.  1.\n",
      "   0.  0.  0.  0.  0.  0.  0.  0.  1.  0.]\n",
      " [ 0.  0.  0.  0.  0.  0.  0.  0.  0.  0.  0.  0.  5. -4.  5. -4.  5. -4.\n",
      "   0.  0.  0.  0.  0.  0.  0.  0.  0.  1.]]\n",
      "[[325.]\n",
      " [325.]\n",
      " [325.]\n",
      " [  0.]\n",
      " [  0.]\n",
      " [  0.]\n",
      " [  0.]\n",
      " [  0.]\n",
      " [  0.]\n",
      " [100.]\n",
      " [200.]\n",
      " [200.]\n",
      " [100.]\n",
      " [300.]\n",
      " [150.]\n",
      " [  0.]]\n"
     ]
    }
   ],
   "source": [
    "import numpy as np\n",
    "import sys\n",
    "\n",
    "c = np.array(list(map(float,c.split(' '))))\n",
    "n = c.shape[0]\n",
    "c = c.reshape(n,1)\n",
    "\n",
    "b = np.array(list(map(float,b.split(' '))))\n",
    "m = b.shape[0]\n",
    "b = b.reshape(m,1)\n",
    "\n",
    "A = np.array(list(map(float,A.split(' '))))\n",
    "A = A.reshape(m,n)\n",
    "print(c)\n",
    "print(A)\n",
    "print(b)\n"
   ]
  },
  {
   "cell_type": "markdown",
   "id": "67ab5736",
   "metadata": {},
   "source": [
    "#### Assumptions check"
   ]
  },
  {
   "cell_type": "code",
   "execution_count": 3,
   "id": "42b02eea",
   "metadata": {},
   "outputs": [
    {
     "name": "stdout",
     "output_type": "stream",
     "text": [
      "Assumptions satisfied\n"
     ]
    }
   ],
   "source": [
    "if n >= m and np.linalg.matrix_rank(A)==m:\n",
    "    print(\"Assumptions satisfied\")\n",
    "else:\n",
    "    print(\"Assumptions unsatisfied, please check your parameters\")\n",
    "    sys.exit()"
   ]
  },
  {
   "cell_type": "markdown",
   "id": "6ca1e7a3",
   "metadata": {},
   "source": [
    "#### Two-phase simplex method"
   ]
  },
  {
   "cell_type": "markdown",
   "id": "8a558eee",
   "metadata": {},
   "source": [
    "Parameters initialization："
   ]
  },
  {
   "cell_type": "code",
   "execution_count": 4,
   "id": "9adf5242",
   "metadata": {},
   "outputs": [],
   "source": [
    "basic = np.arange(n+1,n+m+2,1) ### Basic variables\n",
    "non_basic = np.arange(1,n+1,1) ### Non-basic variables\n",
    "\n",
    "c_t = np.concatenate((np.full(n,0),np.full(m,1),np.full(1,0)))\n",
    "A_new = np.concatenate((A,c.T),axis=0)\n",
    "A_new_all = np.concatenate((A_new,np.eye(m+1)),axis=1)\n",
    "B = A_new_all[:,basic-1]\n",
    "B_inverse = np.linalg.inv(B)\n",
    "\n",
    "b = np.insert(b,m,0,axis=0)"
   ]
  },
  {
   "cell_type": "markdown",
   "id": "74431791",
   "metadata": {},
   "source": [
    "Iteration termination condition calculation:"
   ]
  },
  {
   "cell_type": "code",
   "execution_count": 5,
   "id": "ff71094f",
   "metadata": {},
   "outputs": [],
   "source": [
    "def iteration_condition(B_inverse,basic,non_basic):\n",
    "    global c_d_relative,c_bt,c_dt,D,pi\n",
    "    c_bt = c_t[basic-1]\n",
    "    c_dt = c_t[non_basic-1]\n",
    "\n",
    "    D = A_new_all[:,non_basic-1]\n",
    "    \n",
    "    pi = np.dot(c_bt,B_inverse) ### Calculate the dual solution\n",
    "    c_d_relative = c_dt - np.dot(pi,D) ### Calculate the relative costs\n",
    "    \n",
    "    return c_d_relative\n"
   ]
  },
  {
   "cell_type": "markdown",
   "id": "85bdffac",
   "metadata": {},
   "source": [
    "Main iteration:"
   ]
  },
  {
   "cell_type": "code",
   "execution_count": 6,
   "id": "86b955d6",
   "metadata": {},
   "outputs": [],
   "source": [
    "def Phase(x):\n",
    "    global B_inverse,objective\n",
    "    c_d_relative = iteration_condition(B_inverse,basic,non_basic)\n",
    "    \n",
    "    while (np.array(c_d_relative) >= 0).all() == False:\n",
    "        \n",
    "        entering_variable = np.argmin(c_d_relative) ### Choose entering non-basic variable\n",
    "\n",
    "        cv = np.dot(B_inverse,b)\n",
    "\n",
    "        A_update_column = np.dot(B_inverse,D[:,entering_variable].reshape(len(B_inverse),1))\n",
    "        \n",
    "        ### Select leaving basic variable\n",
    "        if (np.array(A_update_column) <= 0).all():\n",
    "            print(\"The LP problem is unbounded\")\n",
    "            os._exit()\n",
    "        else:\n",
    "            ratio = []\n",
    "            for i in range(m):\n",
    "                if float(A_update_column[i]) > 0:\n",
    "                    ratio = np.append(ratio,float(cv[i])/float(A_update_column[i]))\n",
    "                else:\n",
    "                    ratio = np.append(ratio,np.inf)\n",
    "            leaving_variable = np.argmin(ratio)\n",
    "            \n",
    "        ### Calculate pivoting matrix\n",
    "        pivoting_column = np.empty([len(A_update_column),1])\n",
    "        for i in range(len(A_update_column)):\n",
    "            if i == leaving_variable:\n",
    "                pivoting_column[i] = 1/A_update_column[leaving_variable]\n",
    "            else:\n",
    "                pivoting_column[i] = -A_update_column[i]/A_update_column[leaving_variable]\n",
    "\n",
    "        pivoting_matrix = np.eye(len(A_update_column))\n",
    "        for i in range(len(A_update_column)):\n",
    "            pivoting_matrix[i:,leaving_variable] = pivoting_column[i]\n",
    "        \n",
    "        ### Update Parameters\n",
    "        B_inverse = np.dot(pivoting_matrix,B_inverse)\n",
    "        \n",
    "        template = basic[leaving_variable]\n",
    "        basic[leaving_variable] = non_basic[entering_variable]\n",
    "        non_basic[entering_variable] = template\n",
    "        \n",
    "        cv = np.dot(B_inverse,b)\n",
    "\n",
    "        c_d_relative = iteration_condition(B_inverse,basic,non_basic)\n",
    "        \n",
    "        objective = np.dot(np.dot(c_bt,B_inverse),b)\n",
    "        \n",
    "    ### Determine if there is feasible solution at the end of Phase 1   \n",
    "    if x==1 and objective != 0:\n",
    "        print(\"There is no feasible solution\")\n",
    "        sys.exit()\n",
    "   \n",
    "    ### Remove artificial variables from basis at the end of Phase 1   \n",
    "    else:\n",
    "        while len(basic[np.where(basic > n)]) > 1:\n",
    "            \n",
    "            leaving_variable = np.where(basic > n)[0][0]\n",
    "            entering_variable = np.where(non_basic==non_basic[np.where(non_basic<=n)]\n",
    "                                       [np.nonzero(np.dot(B_inverse,D)[np.where(basic==\n",
    "                                       basic[np.where(basic > n)][0])].ravel()[np.where(non_basic<=n)])][0])[0][0]\n",
    "            \n",
    "            A_update_column = np.dot(B_inverse,D[:,entering_variable].reshape(len(B_inverse),1))\n",
    "            ### Calculate pivoting matrix\n",
    "            pivoting_column = np.empty([len(A_update_column),1])\n",
    "            for i in range(len(A_update_column)):\n",
    "                if i == leaving_variable:\n",
    "                    pivoting_column[i] = 1/A_update_column[leaving_variable]\n",
    "                else:\n",
    "                    pivoting_column[i] = -A_update_column[i]/A_update_column[leaving_variable]\n",
    "   \n",
    "            pivoting_matrix = np.eye(len(A_update_column))\n",
    "            for i in range(len(A_update_column)):\n",
    "                pivoting_matrix[i:,leaving_variable] = pivoting_column[i]\n",
    "        \n",
    "            ### Update Parameters\n",
    "            B_inverse = np.dot(pivoting_matrix,B_inverse)\n",
    "        \n",
    "            template = basic[leaving_variable]\n",
    "            basic[leaving_variable] = non_basic[entering_variable]\n",
    "            non_basic[entering_variable] = template  \n",
    "\n",
    "    return basic,B_inverse,objective\n"
   ]
  },
  {
   "cell_type": "markdown",
   "id": "72a0a2f8",
   "metadata": {},
   "source": [
    "Phase 1 calculation:"
   ]
  },
  {
   "cell_type": "code",
   "execution_count": 7,
   "id": "0c6cf4b3",
   "metadata": {},
   "outputs": [],
   "source": [
    "basic,B_inverse,objective = Phase(1)"
   ]
  },
  {
   "cell_type": "markdown",
   "id": "01ad99b4",
   "metadata": {},
   "source": [
    "Parameters update:"
   ]
  },
  {
   "cell_type": "code",
   "execution_count": 8,
   "id": "e11357e5",
   "metadata": {},
   "outputs": [],
   "source": [
    "basic = np.delete(basic,-1)\n",
    "non_basic = np.array(list(set(np.arange(1,n+1,1))-set(basic)))\n",
    "B_inverse = np.delete(B_inverse,-1,axis=1)\n",
    "B_inverse = np.delete(B_inverse,-1,axis=0)\n",
    "A_new_all = np.delete(A_new_all,slice(n,n+1+m),axis=1)\n",
    "A_new_all = np.delete(A_new_all,-1,axis=0)\n",
    "b = np.delete(b,-1,axis=0)\n",
    "c_t = c.T.ravel()"
   ]
  },
  {
   "cell_type": "markdown",
   "id": "dbd0b367",
   "metadata": {},
   "source": [
    "Phase 2 calculation:"
   ]
  },
  {
   "cell_type": "code",
   "execution_count": 9,
   "id": "310ccf07",
   "metadata": {},
   "outputs": [],
   "source": [
    "basic,B_inverse,objective = Phase(2)"
   ]
  },
  {
   "cell_type": "markdown",
   "id": "0d1963eb",
   "metadata": {},
   "source": [
    "#### Optimal solution:"
   ]
  },
  {
   "cell_type": "code",
   "execution_count": 10,
   "id": "e02fa18d",
   "metadata": {},
   "outputs": [
    {
     "name": "stdout",
     "output_type": "stream",
     "text": [
      "The optimal solution is:\n",
      "Basic Variables: [19 26 20 22 14 15 16 17 18  2  3  6  4 24  5  1]\n",
      "Basic Variables Value: [125. 125.  40. 100. 200. 185. 100. 175. 150. 200. 185. 150. 100.  15.\n",
      " 175.   0.]\n",
      "Objective Function: [-3150000.]\n"
     ]
    }
   ],
   "source": [
    "print(\"The optimal solution is:\")\n",
    "print(\"Basic Variables:\",basic)\n",
    "print(\"Basic Variables Value:\",np.dot(B_inverse,b).ravel())\n",
    "print(\"Objective Function:\",objective)"
   ]
  }
 ],
 "metadata": {
  "kernelspec": {
   "display_name": "Python 3 (ipykernel)",
   "language": "python",
   "name": "python3"
  },
  "language_info": {
   "codemirror_mode": {
    "name": "ipython",
    "version": 3
   },
   "file_extension": ".py",
   "mimetype": "text/x-python",
   "name": "python",
   "nbconvert_exporter": "python",
   "pygments_lexer": "ipython3",
   "version": "3.7.1"
  }
 },
 "nbformat": 4,
 "nbformat_minor": 5
}
